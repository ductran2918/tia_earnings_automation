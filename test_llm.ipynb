{
 "cells": [
  {
   "cell_type": "code",
   "execution_count": 4,
   "id": "dc589657-8139-4e7e-aef9-eebe951c18dd",
   "metadata": {},
   "outputs": [
    {
     "name": "stdout",
     "output_type": "stream",
     "text": [
      "Requirement already satisfied: openai in /opt/anaconda3/lib/python3.13/site-packages (1.97.1)\n",
      "Requirement already satisfied: python-dotenv in /opt/anaconda3/lib/python3.13/site-packages (1.1.1)\n",
      "Collecting pypdf\n",
      "  Downloading pypdf-6.1.1-py3-none-any.whl.metadata (7.1 kB)\n",
      "Requirement already satisfied: ipywidgets in /opt/anaconda3/lib/python3.13/site-packages (8.1.5)\n",
      "Requirement already satisfied: anyio<5,>=3.5.0 in /opt/anaconda3/lib/python3.13/site-packages (from openai) (4.7.0)\n",
      "Requirement already satisfied: distro<2,>=1.7.0 in /opt/anaconda3/lib/python3.13/site-packages (from openai) (1.9.0)\n",
      "Requirement already satisfied: httpx<1,>=0.23.0 in /opt/anaconda3/lib/python3.13/site-packages (from openai) (0.28.1)\n",
      "Requirement already satisfied: jiter<1,>=0.4.0 in /opt/anaconda3/lib/python3.13/site-packages (from openai) (0.10.0)\n",
      "Requirement already satisfied: pydantic<3,>=1.9.0 in /opt/anaconda3/lib/python3.13/site-packages (from openai) (2.10.3)\n",
      "Requirement already satisfied: sniffio in /opt/anaconda3/lib/python3.13/site-packages (from openai) (1.3.0)\n",
      "Requirement already satisfied: tqdm>4 in /opt/anaconda3/lib/python3.13/site-packages (from openai) (4.67.1)\n",
      "Requirement already satisfied: typing-extensions<5,>=4.11 in /opt/anaconda3/lib/python3.13/site-packages (from openai) (4.14.1)\n",
      "Requirement already satisfied: idna>=2.8 in /opt/anaconda3/lib/python3.13/site-packages (from anyio<5,>=3.5.0->openai) (3.7)\n",
      "Requirement already satisfied: certifi in /opt/anaconda3/lib/python3.13/site-packages (from httpx<1,>=0.23.0->openai) (2025.7.14)\n",
      "Requirement already satisfied: httpcore==1.* in /opt/anaconda3/lib/python3.13/site-packages (from httpx<1,>=0.23.0->openai) (1.0.9)\n",
      "Requirement already satisfied: h11>=0.16 in /opt/anaconda3/lib/python3.13/site-packages (from httpcore==1.*->httpx<1,>=0.23.0->openai) (0.16.0)\n",
      "Requirement already satisfied: annotated-types>=0.6.0 in /opt/anaconda3/lib/python3.13/site-packages (from pydantic<3,>=1.9.0->openai) (0.6.0)\n",
      "Requirement already satisfied: pydantic-core==2.27.1 in /opt/anaconda3/lib/python3.13/site-packages (from pydantic<3,>=1.9.0->openai) (2.27.1)\n",
      "Requirement already satisfied: comm>=0.1.3 in /opt/anaconda3/lib/python3.13/site-packages (from ipywidgets) (0.2.1)\n",
      "Requirement already satisfied: ipython>=6.1.0 in /opt/anaconda3/lib/python3.13/site-packages (from ipywidgets) (8.30.0)\n",
      "Requirement already satisfied: traitlets>=4.3.1 in /opt/anaconda3/lib/python3.13/site-packages (from ipywidgets) (5.14.3)\n",
      "Requirement already satisfied: widgetsnbextension~=4.0.12 in /opt/anaconda3/lib/python3.13/site-packages (from ipywidgets) (4.0.13)\n",
      "Requirement already satisfied: jupyterlab-widgets~=3.0.12 in /opt/anaconda3/lib/python3.13/site-packages (from ipywidgets) (3.0.13)\n",
      "Requirement already satisfied: decorator in /opt/anaconda3/lib/python3.13/site-packages (from ipython>=6.1.0->ipywidgets) (5.1.1)\n",
      "Requirement already satisfied: jedi>=0.16 in /opt/anaconda3/lib/python3.13/site-packages (from ipython>=6.1.0->ipywidgets) (0.19.2)\n",
      "Requirement already satisfied: matplotlib-inline in /opt/anaconda3/lib/python3.13/site-packages (from ipython>=6.1.0->ipywidgets) (0.1.6)\n",
      "Requirement already satisfied: prompt-toolkit<3.1.0,>=3.0.41 in /opt/anaconda3/lib/python3.13/site-packages (from ipython>=6.1.0->ipywidgets) (3.0.43)\n",
      "Requirement already satisfied: pygments>=2.4.0 in /opt/anaconda3/lib/python3.13/site-packages (from ipython>=6.1.0->ipywidgets) (2.19.1)\n",
      "Requirement already satisfied: stack-data in /opt/anaconda3/lib/python3.13/site-packages (from ipython>=6.1.0->ipywidgets) (0.2.0)\n",
      "Requirement already satisfied: pexpect>4.3 in /opt/anaconda3/lib/python3.13/site-packages (from ipython>=6.1.0->ipywidgets) (4.8.0)\n",
      "Requirement already satisfied: wcwidth in /opt/anaconda3/lib/python3.13/site-packages (from prompt-toolkit<3.1.0,>=3.0.41->ipython>=6.1.0->ipywidgets) (0.2.5)\n",
      "Requirement already satisfied: parso<0.9.0,>=0.8.4 in /opt/anaconda3/lib/python3.13/site-packages (from jedi>=0.16->ipython>=6.1.0->ipywidgets) (0.8.4)\n",
      "Requirement already satisfied: ptyprocess>=0.5 in /opt/anaconda3/lib/python3.13/site-packages (from pexpect>4.3->ipython>=6.1.0->ipywidgets) (0.7.0)\n",
      "Requirement already satisfied: executing in /opt/anaconda3/lib/python3.13/site-packages (from stack-data->ipython>=6.1.0->ipywidgets) (0.8.3)\n",
      "Requirement already satisfied: asttokens in /opt/anaconda3/lib/python3.13/site-packages (from stack-data->ipython>=6.1.0->ipywidgets) (3.0.0)\n",
      "Requirement already satisfied: pure-eval in /opt/anaconda3/lib/python3.13/site-packages (from stack-data->ipython>=6.1.0->ipywidgets) (0.2.2)\n",
      "Downloading pypdf-6.1.1-py3-none-any.whl (323 kB)\n",
      "Installing collected packages: pypdf\n",
      "Successfully installed pypdf-6.1.1\n",
      "Note: you may need to restart the kernel to use updated packages.\n"
     ]
    }
   ],
   "source": [
    "pip install openai python-dotenv pypdf ipywidgets"
   ]
  },
  {
   "cell_type": "code",
   "execution_count": 16,
   "id": "174b89c8-f27b-44d8-a3fa-f06e1e4b5e5f",
   "metadata": {},
   "outputs": [],
   "source": [
    "import os\n",
    "from dotenv import load_dotenv\n",
    "from openai import OpenAI\n",
    "\n",
    "# Load API key from .env\n",
    "load_dotenv()\n",
    "api_key = os.getenv(\"OPENROUTER_API_KEY\")\n",
    "if not api_key:\n",
    "    raise ValueError(\"OPENROUTER_API_KEY not found in .env\")\n",
    "\n",
    "# OpenRouter via OpenAI SDK\n",
    "client = OpenAI(\n",
    "    base_url=\"https://openrouter.ai/api/v1\",\n",
    "    api_key=api_key\n",
    ")\n",
    "\n",
    "model_name = \"deepseek/deepseek-chat-v3.1:free\""
   ]
  },
  {
   "cell_type": "code",
   "execution_count": 7,
   "id": "01af4e4b-f319-49f6-8f54-86213e0f56f0",
   "metadata": {},
   "outputs": [
    {
     "name": "stdout",
     "output_type": "stream",
     "text": [
      "Loaded prompt (first 400 chars):\n",
      "\n",
      "# Extract Data Prompt\n",
      "\n",
      "## System\n",
      "You are a financial data extraction expert.\n",
      "\n",
      "## Template\n",
      "You are a \n"
     ]
    }
   ],
   "source": [
    "from pathlib import Path\n",
    "\n",
    "PROMPT_PATH = Path(\"app/extract_data_prompt.md\")\n",
    "\n",
    "if not PROMPT_PATH.exists():\n",
    "    raise FileNotFoundError(f\"Prompt file not found: {PROMPT_PATH.resolve()}\")\n",
    "\n",
    "prompt_md = PROMPT_PATH.read_text(encoding=\"utf-8\")\n",
    "print(\"Loaded prompt (first 400 chars):\\n\")\n",
    "print(prompt_md[:100])"
   ]
  },
  {
   "cell_type": "code",
   "execution_count": 11,
   "id": "c415b9ce-628c-4fa1-b6c5-eccd66c244c1",
   "metadata": {},
   "outputs": [
    {
     "data": {
      "application/vnd.jupyter.widget-view+json": {
       "model_id": "85c4f63e841e4dc6b71bfdd0794c3ec7",
       "version_major": 2,
       "version_minor": 0
      },
      "text/plain": [
       "FileUpload(value=(), accept='.pdf', description='Upload')"
      ]
     },
     "metadata": {},
     "output_type": "display_data"
    }
   ],
   "source": [
    "from IPython.display import display\n",
    "import ipywidgets as widgets\n",
    "from pypdf import PdfReader\n",
    "import tempfile\n",
    "from pathlib import Path\n",
    "\n",
    "# 3a) Upload widget\n",
    "uploader = widgets.FileUpload(accept='.pdf', multiple=False)\n",
    "display(uploader)"
   ]
  },
  {
   "cell_type": "code",
   "execution_count": 12,
   "id": "632e2401-5456-4861-acf5-bf8e637b47ad",
   "metadata": {},
   "outputs": [
    {
     "name": "stdout",
     "output_type": "stream",
     "text": [
      "PDF saved to: /var/folders/kw/lmb59rgj02b48m52vmvg26f00000gn/T/Glint.pdf\n",
      "Extracted text (first 800 chars):\n",
      "\n",
      "Glints Pte. Ltd and Its Subsidiaries \n",
      "Incorporated in Singapore, Registration Number: 201323539H \n",
      " \n",
      " \n",
      " \n",
      " \n",
      " \n",
      " \n",
      " \n",
      "       \n",
      " \n",
      "ANNUAL \n",
      "REPORT \n",
      " \n",
      "For the financial year ended \n",
      "31 December 2023 \n",
      "  \n",
      " \n",
      " \n",
      " \n",
      "  \n",
      "Docusign Envelope ID: 75DE3EA9-9A24-46B4-86DE-29F323A47575\n",
      "Authentication no.: Y25498752G\n",
      "3942a94f5dba4b4fd3a5fa06106106d1b134d5a6979813dfe6e280fcdd173602\n",
      " \n",
      " \n",
      " \n",
      " \n",
      "Contents \n",
      "  Page \n",
      "   \n",
      " Directors’ Statement 1 \n",
      "   \n",
      " Independent Auditor’s Report 4 \n",
      "   \n",
      " Consolidated Statement of Comprehensive \n",
      "Income \n",
      "8 \n",
      "   \n",
      " Consolidated Statement of Financial Position - \n",
      "Group \n",
      "9 \n",
      "   \n",
      " Statement of Financial Position - Company 10 \n",
      "   \n",
      " Consolidated Statement of Changes in Equity 11 \n",
      "   \n",
      " Consolidated Statement of Cash Flows 12 \n",
      "   \n",
      " Notes to the Financial Statements 14 \n",
      "Docusign Envelope ID: 75DE3EA9-9A24-46B4\n"
     ]
    }
   ],
   "source": [
    "if not uploader.value:\n",
    "    raise RuntimeError(\"Please upload a PDF above, then re-run this cell.\")\n",
    "\n",
    "# uploader.value is a list of dicts\n",
    "file_info = uploader.value[0]\n",
    "file_name = file_info[\"name\"]\n",
    "\n",
    "# Save uploaded PDF to a temp file\n",
    "tmp_pdf_path = Path(tempfile.gettempdir()) / file_name\n",
    "with open(tmp_pdf_path, \"wb\") as f:\n",
    "    f.write(file_info[\"content\"])\n",
    "\n",
    "# Extract text\n",
    "reader = PdfReader(str(tmp_pdf_path))\n",
    "pages_text = []\n",
    "for page in reader.pages:\n",
    "    try:\n",
    "        pages_text.append(page.extract_text() or \"\")\n",
    "    except Exception:\n",
    "        pages_text.append(\"\")\n",
    "pdf_text = \"\\n\".join(pages_text).strip()\n",
    "\n",
    "# Trim to avoid token overflow\n",
    "MAX_CHARS = 12000\n",
    "pdf_text = pdf_text[:MAX_CHARS]\n",
    "\n",
    "print(f\"PDF saved to: {tmp_pdf_path}\")\n",
    "print(\"Extracted text (first 800 chars):\\n\")\n",
    "print(pdf_text[:800])"
   ]
  },
  {
   "cell_type": "code",
   "execution_count": 18,
   "id": "69c30bf3-f6c5-4881-8e0e-f39da29f46c2",
   "metadata": {},
   "outputs": [
    {
     "name": "stdout",
     "output_type": "stream",
     "text": [
      "Model output:\n",
      "\n",
      "\n"
     ]
    }
   ],
   "source": [
    "# Send a quick test input to check the prompt works\n",
    "resp = client.chat.completions.create(\n",
    "    model=model_name,\n",
    "    messages=[\n",
    "        {\"role\": \"system\", \"content\": prompt_md},\n",
    "    ],\n",
    "    max_tokens=500,\n",
    "    temperature=0\n",
    ")\n",
    "\n",
    "print(\"Model output:\\n\")\n",
    "print(resp.choices[0].message.content.strip())"
   ]
  },
  {
   "cell_type": "code",
   "execution_count": null,
   "id": "3958342e-2a1a-42bb-b819-761f7c011e93",
   "metadata": {},
   "outputs": [],
   "source": []
  }
 ],
 "metadata": {
  "kernelspec": {
   "display_name": "Python [conda env:base] *",
   "language": "python",
   "name": "conda-base-py"
  },
  "language_info": {
   "codemirror_mode": {
    "name": "ipython",
    "version": 3
   },
   "file_extension": ".py",
   "mimetype": "text/x-python",
   "name": "python",
   "nbconvert_exporter": "python",
   "pygments_lexer": "ipython3",
   "version": "3.13.5"
  }
 },
 "nbformat": 4,
 "nbformat_minor": 5
}
